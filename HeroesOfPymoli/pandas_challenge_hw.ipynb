{
 "cells": [
  {
   "cell_type": "markdown",
   "metadata": {},
   "source": [
    "# Heroes of Pymoli"
   ]
  },
  {
   "cell_type": "code",
   "execution_count": 1,
   "metadata": {},
   "outputs": [
    {
     "data": {
      "text/html": [
       "<div>\n",
       "<style scoped>\n",
       "    .dataframe tbody tr th:only-of-type {\n",
       "        vertical-align: middle;\n",
       "    }\n",
       "\n",
       "    .dataframe tbody tr th {\n",
       "        vertical-align: top;\n",
       "    }\n",
       "\n",
       "    .dataframe thead th {\n",
       "        text-align: right;\n",
       "    }\n",
       "</style>\n",
       "<table border=\"1\" class=\"dataframe\">\n",
       "  <thead>\n",
       "    <tr style=\"text-align: right;\">\n",
       "      <th></th>\n",
       "      <th>Purchase ID</th>\n",
       "      <th>SN</th>\n",
       "      <th>Age</th>\n",
       "      <th>Gender</th>\n",
       "      <th>Item ID</th>\n",
       "      <th>Item Name</th>\n",
       "      <th>Price</th>\n",
       "    </tr>\n",
       "  </thead>\n",
       "  <tbody>\n",
       "    <tr>\n",
       "      <th>0</th>\n",
       "      <td>0</td>\n",
       "      <td>Lisim78</td>\n",
       "      <td>20</td>\n",
       "      <td>Male</td>\n",
       "      <td>108</td>\n",
       "      <td>Extraction, Quickblade Of Trembling Hands</td>\n",
       "      <td>3.53</td>\n",
       "    </tr>\n",
       "    <tr>\n",
       "      <th>1</th>\n",
       "      <td>1</td>\n",
       "      <td>Lisovynya38</td>\n",
       "      <td>40</td>\n",
       "      <td>Male</td>\n",
       "      <td>143</td>\n",
       "      <td>Frenzied Scimitar</td>\n",
       "      <td>1.56</td>\n",
       "    </tr>\n",
       "    <tr>\n",
       "      <th>2</th>\n",
       "      <td>2</td>\n",
       "      <td>Ithergue48</td>\n",
       "      <td>24</td>\n",
       "      <td>Male</td>\n",
       "      <td>92</td>\n",
       "      <td>Final Critic</td>\n",
       "      <td>4.88</td>\n",
       "    </tr>\n",
       "    <tr>\n",
       "      <th>3</th>\n",
       "      <td>3</td>\n",
       "      <td>Chamassasya86</td>\n",
       "      <td>24</td>\n",
       "      <td>Male</td>\n",
       "      <td>100</td>\n",
       "      <td>Blindscythe</td>\n",
       "      <td>3.27</td>\n",
       "    </tr>\n",
       "    <tr>\n",
       "      <th>4</th>\n",
       "      <td>4</td>\n",
       "      <td>Iskosia90</td>\n",
       "      <td>23</td>\n",
       "      <td>Male</td>\n",
       "      <td>131</td>\n",
       "      <td>Fury</td>\n",
       "      <td>1.44</td>\n",
       "    </tr>\n",
       "    <tr>\n",
       "      <th>5</th>\n",
       "      <td>5</td>\n",
       "      <td>Yalae81</td>\n",
       "      <td>22</td>\n",
       "      <td>Male</td>\n",
       "      <td>81</td>\n",
       "      <td>Dreamkiss</td>\n",
       "      <td>3.61</td>\n",
       "    </tr>\n",
       "    <tr>\n",
       "      <th>6</th>\n",
       "      <td>6</td>\n",
       "      <td>Itheria73</td>\n",
       "      <td>36</td>\n",
       "      <td>Male</td>\n",
       "      <td>169</td>\n",
       "      <td>Interrogator, Blood Blade of the Queen</td>\n",
       "      <td>2.18</td>\n",
       "    </tr>\n",
       "    <tr>\n",
       "      <th>7</th>\n",
       "      <td>7</td>\n",
       "      <td>Iskjaskst81</td>\n",
       "      <td>20</td>\n",
       "      <td>Male</td>\n",
       "      <td>162</td>\n",
       "      <td>Abyssal Shard</td>\n",
       "      <td>2.67</td>\n",
       "    </tr>\n",
       "    <tr>\n",
       "      <th>8</th>\n",
       "      <td>8</td>\n",
       "      <td>Undjask33</td>\n",
       "      <td>22</td>\n",
       "      <td>Male</td>\n",
       "      <td>21</td>\n",
       "      <td>Souleater</td>\n",
       "      <td>1.10</td>\n",
       "    </tr>\n",
       "    <tr>\n",
       "      <th>9</th>\n",
       "      <td>9</td>\n",
       "      <td>Chanosian48</td>\n",
       "      <td>35</td>\n",
       "      <td>Other / Non-Disclosed</td>\n",
       "      <td>136</td>\n",
       "      <td>Ghastly Adamantite Protector</td>\n",
       "      <td>3.58</td>\n",
       "    </tr>\n",
       "  </tbody>\n",
       "</table>\n",
       "</div>"
      ],
      "text/plain": [
       "   Purchase ID             SN  Age                 Gender  Item ID  \\\n",
       "0            0        Lisim78   20                   Male      108   \n",
       "1            1    Lisovynya38   40                   Male      143   \n",
       "2            2     Ithergue48   24                   Male       92   \n",
       "3            3  Chamassasya86   24                   Male      100   \n",
       "4            4      Iskosia90   23                   Male      131   \n",
       "5            5        Yalae81   22                   Male       81   \n",
       "6            6      Itheria73   36                   Male      169   \n",
       "7            7    Iskjaskst81   20                   Male      162   \n",
       "8            8      Undjask33   22                   Male       21   \n",
       "9            9    Chanosian48   35  Other / Non-Disclosed      136   \n",
       "\n",
       "                                   Item Name  Price  \n",
       "0  Extraction, Quickblade Of Trembling Hands   3.53  \n",
       "1                          Frenzied Scimitar   1.56  \n",
       "2                               Final Critic   4.88  \n",
       "3                                Blindscythe   3.27  \n",
       "4                                       Fury   1.44  \n",
       "5                                  Dreamkiss   3.61  \n",
       "6     Interrogator, Blood Blade of the Queen   2.18  \n",
       "7                              Abyssal Shard   2.67  \n",
       "8                                  Souleater   1.10  \n",
       "9               Ghastly Adamantite Protector   3.58  "
      ]
     },
     "execution_count": 1,
     "metadata": {},
     "output_type": "execute_result"
    }
   ],
   "source": [
    "#Dependencies\n",
    "import pandas as pd\n",
    "\n",
    "file = '/Users/Leishla/Desktop/Bootcamp/nu-chi-data-pt-03-2020-u-c/Homework/04-Pandas/Instructions/HeroesOfPymoli/Resources/purchase_data.csv'\n",
    "purchase_data = pd.read_csv(file)\n",
    "\n",
    "#Create Dataframe#\n",
    "purchase_df = pd.DataFrame(purchase_data)\n",
    "\n",
    "purchase_df.head(10)"
   ]
  },
  {
   "cell_type": "markdown",
   "metadata": {},
   "source": [
    "## Player Count\n",
    "\n",
    "* Total number of players"
   ]
  },
  {
   "cell_type": "code",
   "execution_count": 2,
   "metadata": {},
   "outputs": [
    {
     "data": {
      "text/html": [
       "<div>\n",
       "<style scoped>\n",
       "    .dataframe tbody tr th:only-of-type {\n",
       "        vertical-align: middle;\n",
       "    }\n",
       "\n",
       "    .dataframe tbody tr th {\n",
       "        vertical-align: top;\n",
       "    }\n",
       "\n",
       "    .dataframe thead th {\n",
       "        text-align: right;\n",
       "    }\n",
       "</style>\n",
       "<table border=\"1\" class=\"dataframe\">\n",
       "  <thead>\n",
       "    <tr style=\"text-align: right;\">\n",
       "      <th></th>\n",
       "      <th>Total Players</th>\n",
       "    </tr>\n",
       "  </thead>\n",
       "  <tbody>\n",
       "    <tr>\n",
       "      <th>0</th>\n",
       "      <td>576</td>\n",
       "    </tr>\n",
       "  </tbody>\n",
       "</table>\n",
       "</div>"
      ],
      "text/plain": [
       "   Total Players\n",
       "0            576"
      ]
     },
     "execution_count": 2,
     "metadata": {},
     "output_type": "execute_result"
    }
   ],
   "source": [
    "players = purchase_df[\"SN\"].unique()\n",
    "\n",
    "players_count = (len(players))\n",
    "\n",
    "count_df = pd.DataFrame({'Total Players':[players_count]})\n",
    "                         \n",
    "count_df"
   ]
  },
  {
   "cell_type": "markdown",
   "metadata": {},
   "source": [
    "## Purchasing Analysis (Total)\n",
    "\n",
    "* Number of unique items\n",
    "* Average purchase price\n",
    "* Total number of purchases\n",
    "* Total revenue"
   ]
  },
  {
   "cell_type": "code",
   "execution_count": 3,
   "metadata": {},
   "outputs": [
    {
     "data": {
      "text/plain": [
       "179"
      ]
     },
     "execution_count": 3,
     "metadata": {},
     "output_type": "execute_result"
    }
   ],
   "source": [
    "#Number of unique items\n",
    "unique_items = purchase_df[\"Item ID\"].unique()\n",
    "\n",
    "item_count = (len(unique_items))\n",
    "\n",
    "item_count"
   ]
  },
  {
   "cell_type": "code",
   "execution_count": 4,
   "metadata": {},
   "outputs": [
    {
     "data": {
      "text/plain": [
       "3.050987179487176"
      ]
     },
     "execution_count": 4,
     "metadata": {},
     "output_type": "execute_result"
    }
   ],
   "source": [
    "#Average purchase price\n",
    "\n",
    "purchase_price = purchase_df[\"Price\"].mean()\n",
    "\n",
    "purchase_price"
   ]
  },
  {
   "cell_type": "code",
   "execution_count": 5,
   "metadata": {},
   "outputs": [
    {
     "data": {
      "text/plain": [
       "780"
      ]
     },
     "execution_count": 5,
     "metadata": {},
     "output_type": "execute_result"
    }
   ],
   "source": [
    "#Total number of purchases \n",
    "\n",
    "purchase_count = purchase_df[\"Purchase ID\"].count()\n",
    "\n",
    "purchase_count"
   ]
  },
  {
   "cell_type": "code",
   "execution_count": 6,
   "metadata": {},
   "outputs": [
    {
     "data": {
      "text/plain": [
       "2379.77"
      ]
     },
     "execution_count": 6,
     "metadata": {},
     "output_type": "execute_result"
    }
   ],
   "source": [
    "#Total revenue\n",
    "\n",
    "total_rev = purchase_df[\"Price\"].sum()\n",
    "\n",
    "total_rev"
   ]
  },
  {
   "cell_type": "code",
   "execution_count": 7,
   "metadata": {},
   "outputs": [
    {
     "data": {
      "text/html": [
       "<div>\n",
       "<style scoped>\n",
       "    .dataframe tbody tr th:only-of-type {\n",
       "        vertical-align: middle;\n",
       "    }\n",
       "\n",
       "    .dataframe tbody tr th {\n",
       "        vertical-align: top;\n",
       "    }\n",
       "\n",
       "    .dataframe thead th {\n",
       "        text-align: right;\n",
       "    }\n",
       "</style>\n",
       "<table border=\"1\" class=\"dataframe\">\n",
       "  <thead>\n",
       "    <tr style=\"text-align: right;\">\n",
       "      <th></th>\n",
       "      <th>Number of Unique Items</th>\n",
       "      <th>Average Price</th>\n",
       "      <th>Number of Purchases</th>\n",
       "      <th>Total Revenue</th>\n",
       "    </tr>\n",
       "  </thead>\n",
       "  <tbody>\n",
       "    <tr>\n",
       "      <th>0</th>\n",
       "      <td>179</td>\n",
       "      <td>$3.05</td>\n",
       "      <td>780</td>\n",
       "      <td>$2379.77</td>\n",
       "    </tr>\n",
       "  </tbody>\n",
       "</table>\n",
       "</div>"
      ],
      "text/plain": [
       "   Number of Unique Items Average Price  Number of Purchases Total Revenue\n",
       "0                     179         $3.05                  780      $2379.77"
      ]
     },
     "execution_count": 7,
     "metadata": {},
     "output_type": "execute_result"
    }
   ],
   "source": [
    "#Purchasing Analysis Summary Table\n",
    "\n",
    "summary_df = pd.DataFrame({'Number of Unique Items':[item_count],'Average Price':[purchase_price], 'Number of Purchases':[purchase_count], 'Total Revenue':[total_rev]})\n",
    "\n",
    "summary_df[\"Average Price\"] = summary_df[\"Average Price\"].map(\"${:.2f}\".format)\n",
    "\n",
    "summary_df[\"Total Revenue\"] = summary_df[\"Total Revenue\"].map(\"${:.2f}\".format)\n",
    "\n",
    "summary_df"
   ]
  },
  {
   "cell_type": "markdown",
   "metadata": {},
   "source": [
    "## Gender Demographics\n",
    "\n",
    "* Percentage and count of Male players\n",
    "* Percentage and count of Female players\n",
    "* Percentage and count of other/Non-disclosed"
   ]
  },
  {
   "cell_type": "code",
   "execution_count": 8,
   "metadata": {},
   "outputs": [],
   "source": [
    "#Unique Players and Gender\n",
    "\n",
    "pandg_df = purchase_df[[\"SN\",\"Gender\"]]\n",
    "\n",
    "uniquepg_df = pandg_df.drop_duplicates()"
   ]
  },
  {
   "cell_type": "code",
   "execution_count": 9,
   "metadata": {},
   "outputs": [],
   "source": [
    "#Percentage and count of Male players\n",
    "\n",
    "male_players = uniquepg_df.loc[purchase_df[\"Gender\"] == \"Male\", ]\n",
    "\n",
    "male_df = pd.DataFrame(male_players)\n",
    "\n",
    "male_count = male_df[\"Gender\"].count()\n",
    "\n",
    "male_percent = male_count / players_count"
   ]
  },
  {
   "cell_type": "code",
   "execution_count": 10,
   "metadata": {},
   "outputs": [],
   "source": [
    "#Percentage and count of Female players\n",
    "\n",
    "female_players = uniquepg_df.loc[purchase_df[\"Gender\"] == \"Female\", ]\n",
    "\n",
    "female_df = pd.DataFrame(female_players)\n",
    "\n",
    "female_count = female_df[\"Gender\"].count()\n",
    "\n",
    "female_percent = female_count / players_count"
   ]
  },
  {
   "cell_type": "code",
   "execution_count": 11,
   "metadata": {},
   "outputs": [],
   "source": [
    "#Percentage and count of Other / Non-Disclosed players\n",
    "\n",
    "other_players = uniquepg_df.loc[purchase_df[\"Gender\"] == \"Other / Non-Disclosed\", ]\n",
    "\n",
    "other_df = pd.DataFrame(other_players)\n",
    "\n",
    "other_count = other_df[\"Gender\"].count()\n",
    "\n",
    "other_percent = other_count / players_count"
   ]
  },
  {
   "cell_type": "code",
   "execution_count": 12,
   "metadata": {},
   "outputs": [
    {
     "data": {
      "text/html": [
       "<div>\n",
       "<style scoped>\n",
       "    .dataframe tbody tr th:only-of-type {\n",
       "        vertical-align: middle;\n",
       "    }\n",
       "\n",
       "    .dataframe tbody tr th {\n",
       "        vertical-align: top;\n",
       "    }\n",
       "\n",
       "    .dataframe thead th {\n",
       "        text-align: right;\n",
       "    }\n",
       "</style>\n",
       "<table border=\"1\" class=\"dataframe\">\n",
       "  <thead>\n",
       "    <tr style=\"text-align: right;\">\n",
       "      <th></th>\n",
       "      <th>Total Count</th>\n",
       "      <th>Percentage of Players</th>\n",
       "    </tr>\n",
       "    <tr>\n",
       "      <th>Gender</th>\n",
       "      <th></th>\n",
       "      <th></th>\n",
       "    </tr>\n",
       "  </thead>\n",
       "  <tbody>\n",
       "    <tr>\n",
       "      <th>Male</th>\n",
       "      <td>484</td>\n",
       "      <td>84.03%</td>\n",
       "    </tr>\n",
       "    <tr>\n",
       "      <th>Female</th>\n",
       "      <td>81</td>\n",
       "      <td>14.06%</td>\n",
       "    </tr>\n",
       "    <tr>\n",
       "      <th>Other / Non-Disclosed</th>\n",
       "      <td>11</td>\n",
       "      <td>1.91%</td>\n",
       "    </tr>\n",
       "  </tbody>\n",
       "</table>\n",
       "</div>"
      ],
      "text/plain": [
       "                       Total Count Percentage of Players\n",
       "Gender                                                  \n",
       "Male                           484                84.03%\n",
       "Female                          81                14.06%\n",
       "Other / Non-Disclosed           11                 1.91%"
      ]
     },
     "execution_count": 12,
     "metadata": {},
     "output_type": "execute_result"
    }
   ],
   "source": [
    "#Purchasing Analysis Summary Table\n",
    "\n",
    "pgseries = [{\"Gender\":\"Male\", \"Total Count\": male_count, \"Percentage of Players\": male_percent}, \n",
    "        {\"Gender\":\"Female\", \"Total Count\": female_count, \"Percentage of Players\": female_percent}, \n",
    "        {\"Gender\":\"Other / Non-Disclosed\", \"Total Count\": other_count, \"Percentage of Players\": other_percent}]\n",
    "\n",
    "pg_df = pd.DataFrame(pgseries)\n",
    "\n",
    "newpg_df = pg_df.set_index(\"Gender\")\n",
    "\n",
    "newpg_df[\"Percentage of Players\"] = newpg_df[\"Percentage of Players\"].map(\"{:.2%}\".format)\n",
    "\n",
    "newpg_df"
   ]
  },
  {
   "cell_type": "markdown",
   "metadata": {},
   "source": [
    "## Purchasing Analysis (Gender)\n",
    "\n",
    "### Break down each of the following categories by gender\n",
    "\n",
    "* Purchase count\n",
    "* Average purchase price\n",
    "* Total purchase value \n",
    "* Average purchase total per person by gender"
   ]
  },
  {
   "cell_type": "code",
   "execution_count": 13,
   "metadata": {},
   "outputs": [],
   "source": [
    "#Group by gender\n",
    "gender_purchase_df = purchase_df.groupby(['Gender'])"
   ]
  },
  {
   "cell_type": "code",
   "execution_count": 14,
   "metadata": {},
   "outputs": [],
   "source": [
    "#Purchase count\n",
    "purchase_count = gender_purchase_df[\"Purchase ID\"].count()\n",
    "\n",
    "purchasecount_df = pd.DataFrame(purchase_count)\n",
    "\n",
    "rename_purchase_df = purchasecount_df.rename(columns={\"Purchase ID\":\"Purchase Count\"})"
   ]
  },
  {
   "cell_type": "code",
   "execution_count": 15,
   "metadata": {},
   "outputs": [],
   "source": [
    "#Average purchase price\n",
    "average_purchase = gender_purchase_df[\"Price\"].mean()\n",
    "\n",
    "average_df = pd.DataFrame(average_purchase)\n",
    "\n",
    "rename_average_df = average_df.rename(columns={\"Price\":\"Average Purchase Price\"})\n",
    "\n",
    "rename_average_df[\"Average Purchase Price\"] = rename_average_df[\"Average Purchase Price\"].map(\"${:.2f}\".format)"
   ]
  },
  {
   "cell_type": "code",
   "execution_count": 16,
   "metadata": {},
   "outputs": [],
   "source": [
    "#Total purchase value\n",
    "total_purchase = gender_purchase_df[\"Price\"].sum()\n",
    "\n",
    "total_df = pd.DataFrame(total_purchase)\n",
    "\n",
    "rename_total_df = total_df.rename(columns={\"Price\":\"Total Purchase Value\"})\n",
    "\n",
    "rename_total_df[\"Total Purchase Value\"] = rename_total_df[\"Total Purchase Value\"].map(\"${:.2f}\".format)"
   ]
  },
  {
   "cell_type": "code",
   "execution_count": 17,
   "metadata": {},
   "outputs": [],
   "source": [
    "#Average purchase total per person by gender\n",
    "\n",
    "gender_player_df = purchase_df.groupby([\"Gender\",\"SN\"])\n",
    "\n",
    "player_sum_df = gender_player_df[\"Price\"].sum()\n",
    "\n",
    "fem_average = player_sum_df[[\"Female\",\"Price\"]].mean()\n",
    "\n",
    "male_average = player_sum_df[[\"Male\",\"Price\"]].mean()\n",
    "\n",
    "other_average = player_sum_df[[\"Other / Non-Disclosed\",\"Price\"]].mean()\n",
    "\n",
    "perperson_average = [fem_average, male_average, other_average]"
   ]
  },
  {
   "cell_type": "code",
   "execution_count": 18,
   "metadata": {},
   "outputs": [
    {
     "data": {
      "text/html": [
       "<div>\n",
       "<style scoped>\n",
       "    .dataframe tbody tr th:only-of-type {\n",
       "        vertical-align: middle;\n",
       "    }\n",
       "\n",
       "    .dataframe tbody tr th {\n",
       "        vertical-align: top;\n",
       "    }\n",
       "\n",
       "    .dataframe thead th {\n",
       "        text-align: right;\n",
       "    }\n",
       "</style>\n",
       "<table border=\"1\" class=\"dataframe\">\n",
       "  <thead>\n",
       "    <tr style=\"text-align: right;\">\n",
       "      <th></th>\n",
       "      <th>Purchase Count</th>\n",
       "      <th>Average Purchase Price</th>\n",
       "      <th>Total Purchase Value</th>\n",
       "      <th>Average Total Purchase Per Person</th>\n",
       "    </tr>\n",
       "    <tr>\n",
       "      <th>Gender</th>\n",
       "      <th></th>\n",
       "      <th></th>\n",
       "      <th></th>\n",
       "      <th></th>\n",
       "    </tr>\n",
       "  </thead>\n",
       "  <tbody>\n",
       "    <tr>\n",
       "      <th>Female</th>\n",
       "      <td>113</td>\n",
       "      <td>$3.20</td>\n",
       "      <td>$361.94</td>\n",
       "      <td>$4.47</td>\n",
       "    </tr>\n",
       "    <tr>\n",
       "      <th>Male</th>\n",
       "      <td>652</td>\n",
       "      <td>$3.02</td>\n",
       "      <td>$1967.64</td>\n",
       "      <td>$4.07</td>\n",
       "    </tr>\n",
       "    <tr>\n",
       "      <th>Other / Non-Disclosed</th>\n",
       "      <td>15</td>\n",
       "      <td>$3.35</td>\n",
       "      <td>$50.19</td>\n",
       "      <td>$4.56</td>\n",
       "    </tr>\n",
       "  </tbody>\n",
       "</table>\n",
       "</div>"
      ],
      "text/plain": [
       "                       Purchase Count Average Purchase Price  \\\n",
       "Gender                                                         \n",
       "Female                            113                  $3.20   \n",
       "Male                              652                  $3.02   \n",
       "Other / Non-Disclosed              15                  $3.35   \n",
       "\n",
       "                      Total Purchase Value Average Total Purchase Per Person  \n",
       "Gender                                                                        \n",
       "Female                             $361.94                             $4.47  \n",
       "Male                              $1967.64                             $4.07  \n",
       "Other / Non-Disclosed               $50.19                             $4.56  "
      ]
     },
     "execution_count": 18,
     "metadata": {},
     "output_type": "execute_result"
    }
   ],
   "source": [
    "#Purchasing Analysis by Gender - Summary Table\n",
    "\n",
    "merge_df = pd.merge(rename_purchase_df, rename_average_df, on= \"Gender\", how= \"outer\")\n",
    "\n",
    "merge2_df = pd.merge(merge_df, rename_total_df, on= \"Gender\", how= \"outer\")\n",
    "\n",
    "merge2_df[\"Average Total Purchase Per Person\"] = perperson_average\n",
    "\n",
    "merge2_df[\"Average Total Purchase Per Person\"] = merge2_df[\"Average Total Purchase Per Person\"].map(\"${:.2f}\".format)\n",
    "\n",
    "merge2_df"
   ]
  },
  {
   "cell_type": "markdown",
   "metadata": {},
   "source": [
    "## Age Demographics\n",
    "\n",
    "### Break down each of the categories below into bins of 4 years\n",
    "\n",
    "* Purchase count\n",
    "* Average purchase price\n",
    "* Total purchase value\n",
    "* Average purchase total per person by age group"
   ]
  },
  {
   "cell_type": "code",
   "execution_count": 19,
   "metadata": {},
   "outputs": [],
   "source": [
    "#Data\n",
    "df = purchase_df[[\"SN\",\"Age\"]]\n",
    "unique_df = df.drop_duplicates()\n",
    "bins_df = pd.DataFrame(unique_df)\n",
    "\n",
    "#Bins by Age\n",
    "bins = [0,9,14,19,24,29,34,39,50]\n",
    "\n",
    "#Group Names\n",
    "group_names = [\"<10\",\"10-14\", \"15-19\", \"20-24\", \"25-29\", \"30-34\", \"35-39\", \"40>\"]\n",
    "\n",
    "#Create Bins\n",
    "bins_df[\"Age Groups\"] = pd.cut(bins_df[\"Age\"], bins, labels=group_names, include_lowest=True)"
   ]
  },
  {
   "cell_type": "code",
   "execution_count": 20,
   "metadata": {},
   "outputs": [
    {
     "data": {
      "text/html": [
       "<div>\n",
       "<style scoped>\n",
       "    .dataframe tbody tr th:only-of-type {\n",
       "        vertical-align: middle;\n",
       "    }\n",
       "\n",
       "    .dataframe tbody tr th {\n",
       "        vertical-align: top;\n",
       "    }\n",
       "\n",
       "    .dataframe thead th {\n",
       "        text-align: right;\n",
       "    }\n",
       "</style>\n",
       "<table border=\"1\" class=\"dataframe\">\n",
       "  <thead>\n",
       "    <tr style=\"text-align: right;\">\n",
       "      <th></th>\n",
       "      <th>Total Count</th>\n",
       "      <th>Percentage of Players</th>\n",
       "    </tr>\n",
       "    <tr>\n",
       "      <th>Age Groups</th>\n",
       "      <th></th>\n",
       "      <th></th>\n",
       "    </tr>\n",
       "  </thead>\n",
       "  <tbody>\n",
       "    <tr>\n",
       "      <th>&lt;10</th>\n",
       "      <td>17</td>\n",
       "      <td>2.95%</td>\n",
       "    </tr>\n",
       "    <tr>\n",
       "      <th>10-14</th>\n",
       "      <td>22</td>\n",
       "      <td>3.82%</td>\n",
       "    </tr>\n",
       "    <tr>\n",
       "      <th>15-19</th>\n",
       "      <td>107</td>\n",
       "      <td>18.58%</td>\n",
       "    </tr>\n",
       "    <tr>\n",
       "      <th>20-24</th>\n",
       "      <td>258</td>\n",
       "      <td>44.79%</td>\n",
       "    </tr>\n",
       "    <tr>\n",
       "      <th>25-29</th>\n",
       "      <td>77</td>\n",
       "      <td>13.37%</td>\n",
       "    </tr>\n",
       "    <tr>\n",
       "      <th>30-34</th>\n",
       "      <td>52</td>\n",
       "      <td>9.03%</td>\n",
       "    </tr>\n",
       "    <tr>\n",
       "      <th>35-39</th>\n",
       "      <td>31</td>\n",
       "      <td>5.38%</td>\n",
       "    </tr>\n",
       "    <tr>\n",
       "      <th>40&gt;</th>\n",
       "      <td>12</td>\n",
       "      <td>2.08%</td>\n",
       "    </tr>\n",
       "  </tbody>\n",
       "</table>\n",
       "</div>"
      ],
      "text/plain": [
       "            Total Count Percentage of Players\n",
       "Age Groups                                   \n",
       "<10                  17                 2.95%\n",
       "10-14                22                 3.82%\n",
       "15-19               107                18.58%\n",
       "20-24               258                44.79%\n",
       "25-29                77                13.37%\n",
       "30-34                52                 9.03%\n",
       "35-39                31                 5.38%\n",
       "40>                  12                 2.08%"
      ]
     },
     "execution_count": 20,
     "metadata": {},
     "output_type": "execute_result"
    }
   ],
   "source": [
    "#Total Player Count by Age\n",
    "\n",
    "age_groups_df = bins_df.groupby(\"Age Groups\")\n",
    "\n",
    "age_df = age_groups_df[\"Age\"].count()\n",
    "\n",
    "newage_df = pd.DataFrame(age_df)\n",
    "\n",
    "totalrename_df = newage_df.rename(columns={\"Age\":\"Total Count\"})\n",
    "\n",
    "\n",
    "#Percentage of Players by Age\n",
    "\n",
    "agegroup_percent_df = newage_df[\"Age\"]/players_count\n",
    "\n",
    "percent_df = pd.DataFrame(agegroup_percent_df)\n",
    "\n",
    "percentrename_df = percent_df.rename(columns={\"Age\":\"Percentage of Players\"})\n",
    "\n",
    "\n",
    "#Summary Table\n",
    "\n",
    "agegroups_merge_df = pd.merge(totalrename_df, percentrename_df, on= \"Age Groups\", how= \"outer\")\n",
    "\n",
    "agegroups_merge_df[\"Percentage of Players\"] = agegroups_merge_df[\"Percentage of Players\"].map(\"{:.2%}\".format)\n",
    "\n",
    "agegroups_merge_df"
   ]
  },
  {
   "cell_type": "markdown",
   "metadata": {},
   "source": [
    "## Top Spenders\n",
    "\n",
    "### Identify the top 5 spenders in the game by total purchase value, then list:\n",
    "\n",
    "* SN\n",
    "* Purchase count\n",
    "* Average purchase price\n",
    "* Total purchase value"
   ]
  },
  {
   "cell_type": "code",
   "execution_count": 21,
   "metadata": {},
   "outputs": [],
   "source": [
    "#List users\n",
    "\n",
    "sn_df = purchase_df[[\"SN\",\"Price\"]]\n",
    "\n",
    "sn_group_df = sn_df.groupby(\"SN\")"
   ]
  },
  {
   "cell_type": "code",
   "execution_count": 22,
   "metadata": {},
   "outputs": [],
   "source": [
    "#Total Purchase Value\n",
    "\n",
    "price_sum = sn_group_df[\"Price\"].sum()\n",
    "\n",
    "price_sum_df = pd.DataFrame(price_sum)\n",
    "\n",
    "spenders_df = price_sum_df.sort_values(\"Price\", ascending=False).head(5)\n",
    "\n",
    "spenders_rename_df = spenders_df.rename(columns= {\"Price\": \"Total Purchase Value\"})"
   ]
  },
  {
   "cell_type": "code",
   "execution_count": 23,
   "metadata": {},
   "outputs": [],
   "source": [
    "#Purchase Count\n",
    "purchasecount = sn_df[\"SN\"].value_counts()\n",
    "\n",
    "spenders_rename_df[\"Purchase Count\"] = purchasecount"
   ]
  },
  {
   "cell_type": "code",
   "execution_count": 24,
   "metadata": {},
   "outputs": [],
   "source": [
    "#Average Purchase Price\n",
    "\n",
    "a_df = pd.DataFrame(spenders_rename_df)\n",
    "\n",
    "a_df[\"Average Purchase Price\"] = a_df[\"Total Purchase Value\"]/a_df[\"Purchase Count\"]"
   ]
  },
  {
   "cell_type": "code",
   "execution_count": 25,
   "metadata": {},
   "outputs": [
    {
     "data": {
      "text/html": [
       "<div>\n",
       "<style scoped>\n",
       "    .dataframe tbody tr th:only-of-type {\n",
       "        vertical-align: middle;\n",
       "    }\n",
       "\n",
       "    .dataframe tbody tr th {\n",
       "        vertical-align: top;\n",
       "    }\n",
       "\n",
       "    .dataframe thead th {\n",
       "        text-align: right;\n",
       "    }\n",
       "</style>\n",
       "<table border=\"1\" class=\"dataframe\">\n",
       "  <thead>\n",
       "    <tr style=\"text-align: right;\">\n",
       "      <th></th>\n",
       "      <th>Purchase Count</th>\n",
       "      <th>Average Purchase Price</th>\n",
       "      <th>Total Purchase Value</th>\n",
       "    </tr>\n",
       "    <tr>\n",
       "      <th>SN</th>\n",
       "      <th></th>\n",
       "      <th></th>\n",
       "      <th></th>\n",
       "    </tr>\n",
       "  </thead>\n",
       "  <tbody>\n",
       "    <tr>\n",
       "      <th>Lisosia93</th>\n",
       "      <td>5</td>\n",
       "      <td>$3.79</td>\n",
       "      <td>$18.96</td>\n",
       "    </tr>\n",
       "    <tr>\n",
       "      <th>Idastidru52</th>\n",
       "      <td>4</td>\n",
       "      <td>$3.86</td>\n",
       "      <td>$15.45</td>\n",
       "    </tr>\n",
       "    <tr>\n",
       "      <th>Chamjask73</th>\n",
       "      <td>3</td>\n",
       "      <td>$4.61</td>\n",
       "      <td>$13.83</td>\n",
       "    </tr>\n",
       "    <tr>\n",
       "      <th>Iral74</th>\n",
       "      <td>4</td>\n",
       "      <td>$3.40</td>\n",
       "      <td>$13.62</td>\n",
       "    </tr>\n",
       "    <tr>\n",
       "      <th>Iskadarya95</th>\n",
       "      <td>3</td>\n",
       "      <td>$4.37</td>\n",
       "      <td>$13.10</td>\n",
       "    </tr>\n",
       "  </tbody>\n",
       "</table>\n",
       "</div>"
      ],
      "text/plain": [
       "             Purchase Count Average Purchase Price Total Purchase Value\n",
       "SN                                                                     \n",
       "Lisosia93                 5                  $3.79               $18.96\n",
       "Idastidru52               4                  $3.86               $15.45\n",
       "Chamjask73                3                  $4.61               $13.83\n",
       "Iral74                    4                  $3.40               $13.62\n",
       "Iskadarya95               3                  $4.37               $13.10"
      ]
     },
     "execution_count": 25,
     "metadata": {},
     "output_type": "execute_result"
    }
   ],
   "source": [
    "#Dataframe Formatting\n",
    "\n",
    "aorg_df = a_df[[\"Purchase Count\",\"Average Purchase Price\",\"Total Purchase Value\"]]\n",
    "\n",
    "aorg_df[\"Total Purchase Value\"] = aorg_df[\"Total Purchase Value\"].map(\"${:.2f}\".format)\n",
    "\n",
    "aorg_df[\"Average Purchase Price\"] = aorg_df[\"Average Purchase Price\"].map(\"${:.2f}\".format)\n",
    "\n",
    "aorg_df"
   ]
  },
  {
   "cell_type": "markdown",
   "metadata": {},
   "source": [
    "## Most Popular Items\n",
    "\n",
    "### Identify the 5 most popular items by purchase count, then list:\n",
    "\n",
    "* Item ID\n",
    "* Item Name\n",
    "* Purchase count\n",
    "* Item price\n",
    "* Total purchase value"
   ]
  },
  {
   "cell_type": "code",
   "execution_count": 256,
   "metadata": {},
   "outputs": [],
   "source": [
    "#Total Purchase Value\n",
    "itempop_df = purchase_df[[\"Item ID\",\"Item Name\",\"Price\"]]\n",
    "\n",
    "popgroup_df = itempop_df.groupby([\"Item ID\",\"Item Name\"])\n",
    "\n",
    "poptotal_df = popgroup_df[\"Price\"].sum()"
   ]
  },
  {
   "cell_type": "code",
   "execution_count": 257,
   "metadata": {},
   "outputs": [],
   "source": [
    "#Purchase count\n",
    "\n",
    "poppurchase = popgroup_df[\"Price\"].count()"
   ]
  },
  {
   "cell_type": "code",
   "execution_count": 289,
   "metadata": {},
   "outputs": [],
   "source": [
    "#Sorting values\n",
    "popsum_df = pd.DataFrame({\"Purchase Count\":itempurchase, \"Total Purchase Value\": itemtotal_df})\n",
    "\n",
    "popfinal_df = popsum_df.sort_values(\"Purchase Count\",ascending=False).head(5)"
   ]
  },
  {
   "cell_type": "code",
   "execution_count": 290,
   "metadata": {},
   "outputs": [
    {
     "data": {
      "text/html": [
       "<div>\n",
       "<style scoped>\n",
       "    .dataframe tbody tr th:only-of-type {\n",
       "        vertical-align: middle;\n",
       "    }\n",
       "\n",
       "    .dataframe tbody tr th {\n",
       "        vertical-align: top;\n",
       "    }\n",
       "\n",
       "    .dataframe thead th {\n",
       "        text-align: right;\n",
       "    }\n",
       "</style>\n",
       "<table border=\"1\" class=\"dataframe\">\n",
       "  <thead>\n",
       "    <tr style=\"text-align: right;\">\n",
       "      <th></th>\n",
       "      <th></th>\n",
       "      <th>Purchase Count</th>\n",
       "      <th>Total Purchase Value</th>\n",
       "    </tr>\n",
       "    <tr>\n",
       "      <th>Item ID</th>\n",
       "      <th>Item Name</th>\n",
       "      <th></th>\n",
       "      <th></th>\n",
       "    </tr>\n",
       "  </thead>\n",
       "  <tbody>\n",
       "    <tr>\n",
       "      <th>92</th>\n",
       "      <th>Final Critic</th>\n",
       "      <td>13</td>\n",
       "      <td>$59.99</td>\n",
       "    </tr>\n",
       "    <tr>\n",
       "      <th>178</th>\n",
       "      <th>Oathbreaker, Last Hope of the Breaking Storm</th>\n",
       "      <td>12</td>\n",
       "      <td>$50.76</td>\n",
       "    </tr>\n",
       "    <tr>\n",
       "      <th>145</th>\n",
       "      <th>Fiery Glass Crusader</th>\n",
       "      <td>9</td>\n",
       "      <td>$41.22</td>\n",
       "    </tr>\n",
       "    <tr>\n",
       "      <th>132</th>\n",
       "      <th>Persuasion</th>\n",
       "      <td>9</td>\n",
       "      <td>$28.99</td>\n",
       "    </tr>\n",
       "    <tr>\n",
       "      <th>108</th>\n",
       "      <th>Extraction, Quickblade Of Trembling Hands</th>\n",
       "      <td>9</td>\n",
       "      <td>$31.77</td>\n",
       "    </tr>\n",
       "  </tbody>\n",
       "</table>\n",
       "</div>"
      ],
      "text/plain": [
       "                                                      Purchase Count  \\\n",
       "Item ID Item Name                                                      \n",
       "92      Final Critic                                              13   \n",
       "178     Oathbreaker, Last Hope of the Breaking Storm              12   \n",
       "145     Fiery Glass Crusader                                       9   \n",
       "132     Persuasion                                                 9   \n",
       "108     Extraction, Quickblade Of Trembling Hands                  9   \n",
       "\n",
       "                                                     Total Purchase Value  \n",
       "Item ID Item Name                                                          \n",
       "92      Final Critic                                               $59.99  \n",
       "178     Oathbreaker, Last Hope of the Breaking Storm               $50.76  \n",
       "145     Fiery Glass Crusader                                       $41.22  \n",
       "132     Persuasion                                                 $28.99  \n",
       "108     Extraction, Quickblade Of Trembling Hands                  $31.77  "
      ]
     },
     "execution_count": 290,
     "metadata": {},
     "output_type": "execute_result"
    }
   ],
   "source": [
    "#Data formatting\n",
    "popfinal_df[\"Total Purchase Value\"] = popfinal_df[\"Total Purchase Value\"].map(\"${:.2f}\".format)\n",
    "\n",
    "popfinal_df"
   ]
  },
  {
   "cell_type": "markdown",
   "metadata": {},
   "source": [
    "## Most Profitable Items\n",
    "\n",
    "### Identify the 5 most profitable items by total purchase value, then list: \n",
    "\n",
    "* Item ID\n",
    "* Item name\n",
    "* Purchase count\n",
    "* Item price\n",
    "* Total purchase value"
   ]
  },
  {
   "cell_type": "code",
   "execution_count": 291,
   "metadata": {},
   "outputs": [],
   "source": [
    "#Total Purchase Value\n",
    "itemprof_df = purchase_df[[\"Item ID\",\"Item Name\",\"Price\"]]\n",
    "\n",
    "itemgroup_df = itemprof_df.groupby([\"Item ID\",\"Item Name\"])\n",
    "\n",
    "itemtotal_df = itemgroup_df[\"Price\"].sum()"
   ]
  },
  {
   "cell_type": "code",
   "execution_count": 292,
   "metadata": {},
   "outputs": [],
   "source": [
    "#Purchase count\n",
    "\n",
    "itempurchase = itemgroup_df[\"Price\"].count()"
   ]
  },
  {
   "cell_type": "code",
   "execution_count": 293,
   "metadata": {},
   "outputs": [],
   "source": [
    "#Sorting values\n",
    "sum_df = pd.DataFrame({\"Purchase Count\":itempurchase, \"Total Purchase Value\": itemtotal_df})\n",
    "\n",
    "finalsum_df = sum_df.sort_values(\"Total Purchase Value\",ascending=False).head(5)"
   ]
  },
  {
   "cell_type": "code",
   "execution_count": 294,
   "metadata": {},
   "outputs": [
    {
     "data": {
      "text/html": [
       "<div>\n",
       "<style scoped>\n",
       "    .dataframe tbody tr th:only-of-type {\n",
       "        vertical-align: middle;\n",
       "    }\n",
       "\n",
       "    .dataframe tbody tr th {\n",
       "        vertical-align: top;\n",
       "    }\n",
       "\n",
       "    .dataframe thead th {\n",
       "        text-align: right;\n",
       "    }\n",
       "</style>\n",
       "<table border=\"1\" class=\"dataframe\">\n",
       "  <thead>\n",
       "    <tr style=\"text-align: right;\">\n",
       "      <th></th>\n",
       "      <th></th>\n",
       "      <th>Purchase Count</th>\n",
       "      <th>Total Purchase Value</th>\n",
       "    </tr>\n",
       "    <tr>\n",
       "      <th>Item ID</th>\n",
       "      <th>Item Name</th>\n",
       "      <th></th>\n",
       "      <th></th>\n",
       "    </tr>\n",
       "  </thead>\n",
       "  <tbody>\n",
       "    <tr>\n",
       "      <th>92</th>\n",
       "      <th>Final Critic</th>\n",
       "      <td>13</td>\n",
       "      <td>$59.99</td>\n",
       "    </tr>\n",
       "    <tr>\n",
       "      <th>178</th>\n",
       "      <th>Oathbreaker, Last Hope of the Breaking Storm</th>\n",
       "      <td>12</td>\n",
       "      <td>$50.76</td>\n",
       "    </tr>\n",
       "    <tr>\n",
       "      <th>82</th>\n",
       "      <th>Nirvana</th>\n",
       "      <td>9</td>\n",
       "      <td>$44.10</td>\n",
       "    </tr>\n",
       "    <tr>\n",
       "      <th>145</th>\n",
       "      <th>Fiery Glass Crusader</th>\n",
       "      <td>9</td>\n",
       "      <td>$41.22</td>\n",
       "    </tr>\n",
       "    <tr>\n",
       "      <th>103</th>\n",
       "      <th>Singed Scalpel</th>\n",
       "      <td>8</td>\n",
       "      <td>$34.80</td>\n",
       "    </tr>\n",
       "  </tbody>\n",
       "</table>\n",
       "</div>"
      ],
      "text/plain": [
       "                                                      Purchase Count  \\\n",
       "Item ID Item Name                                                      \n",
       "92      Final Critic                                              13   \n",
       "178     Oathbreaker, Last Hope of the Breaking Storm              12   \n",
       "82      Nirvana                                                    9   \n",
       "145     Fiery Glass Crusader                                       9   \n",
       "103     Singed Scalpel                                             8   \n",
       "\n",
       "                                                     Total Purchase Value  \n",
       "Item ID Item Name                                                          \n",
       "92      Final Critic                                               $59.99  \n",
       "178     Oathbreaker, Last Hope of the Breaking Storm               $50.76  \n",
       "82      Nirvana                                                    $44.10  \n",
       "145     Fiery Glass Crusader                                       $41.22  \n",
       "103     Singed Scalpel                                             $34.80  "
      ]
     },
     "execution_count": 294,
     "metadata": {},
     "output_type": "execute_result"
    }
   ],
   "source": [
    "#Data formatting\n",
    "finalsum_df[\"Total Purchase Value\"] = finalsum_df[\"Total Purchase Value\"].map(\"${:.2f}\".format)\n",
    "\n",
    "finalsum_df"
   ]
  }
 ],
 "metadata": {
  "kernelspec": {
   "display_name": "Python 3",
   "language": "python",
   "name": "python3"
  },
  "language_info": {
   "codemirror_mode": {
    "name": "ipython",
    "version": 3
   },
   "file_extension": ".py",
   "mimetype": "text/x-python",
   "name": "python",
   "nbconvert_exporter": "python",
   "pygments_lexer": "ipython3",
   "version": "3.6.10"
  }
 },
 "nbformat": 4,
 "nbformat_minor": 4
}
